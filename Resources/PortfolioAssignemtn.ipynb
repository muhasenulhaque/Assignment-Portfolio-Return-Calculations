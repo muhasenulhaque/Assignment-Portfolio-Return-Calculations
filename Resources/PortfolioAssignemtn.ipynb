{
 "cells": [
  {
   "cell_type": "code",
   "execution_count": 68,
   "id": "66fc0bc4-1c6c-462d-9345-a6a2f3a14cc3",
   "metadata": {},
   "outputs": [],
   "source": [
    "#importing necessary library \n",
    "import pandas as pd\n",
    "from pathlib import Path\n",
    "import csv\n",
    "import numpy as np\n"
   ]
  },
  {
   "cell_type": "code",
   "execution_count": 4,
   "id": "1cc73ea5-0a39-4d41-9b3b-01ba4922e988",
   "metadata": {},
   "outputs": [],
   "source": [
    "# reading the whale_returns.csv file data\n",
    "cwd = Path.cwd()\n",
    "filepath = ('./whale_returns.csv')\n",
    "whale_data = pd.read_csv(filepath,index_col = 'Date', parse_dates = True)"
   ]
  },
  {
   "cell_type": "code",
   "execution_count": 29,
   "id": "f27def49-93cc-4cef-902d-00c4ee434299",
   "metadata": {},
   "outputs": [
    {
     "data": {
      "text/html": [
       "<div>\n",
       "<style scoped>\n",
       "    .dataframe tbody tr th:only-of-type {\n",
       "        vertical-align: middle;\n",
       "    }\n",
       "\n",
       "    .dataframe tbody tr th {\n",
       "        vertical-align: top;\n",
       "    }\n",
       "\n",
       "    .dataframe thead th {\n",
       "        text-align: right;\n",
       "    }\n",
       "</style>\n",
       "<table border=\"1\" class=\"dataframe\">\n",
       "  <thead>\n",
       "    <tr style=\"text-align: right;\">\n",
       "      <th></th>\n",
       "      <th>SOROS FUND MANAGEMENT LLC</th>\n",
       "      <th>PAULSON &amp; CO.INC.</th>\n",
       "      <th>TIGER GLOBAL MANAGEMENT LLC</th>\n",
       "      <th>BERKSHIRE HATHAWAY INC</th>\n",
       "    </tr>\n",
       "    <tr>\n",
       "      <th>Date</th>\n",
       "      <th></th>\n",
       "      <th></th>\n",
       "      <th></th>\n",
       "      <th></th>\n",
       "    </tr>\n",
       "  </thead>\n",
       "  <tbody>\n",
       "    <tr>\n",
       "      <th>2015-03-02</th>\n",
       "      <td>NaN</td>\n",
       "      <td>NaN</td>\n",
       "      <td>NaN</td>\n",
       "      <td>NaN</td>\n",
       "    </tr>\n",
       "    <tr>\n",
       "      <th>2015-03-03</th>\n",
       "      <td>-0.001266</td>\n",
       "      <td>-0.004981</td>\n",
       "      <td>-0.000496</td>\n",
       "      <td>-0.006569</td>\n",
       "    </tr>\n",
       "    <tr>\n",
       "      <th>2015-03-04</th>\n",
       "      <td>0.002230</td>\n",
       "      <td>0.003241</td>\n",
       "      <td>-0.002534</td>\n",
       "      <td>0.004213</td>\n",
       "    </tr>\n",
       "    <tr>\n",
       "      <th>2015-03-05</th>\n",
       "      <td>0.004016</td>\n",
       "      <td>0.004076</td>\n",
       "      <td>0.002355</td>\n",
       "      <td>0.006726</td>\n",
       "    </tr>\n",
       "    <tr>\n",
       "      <th>2015-03-06</th>\n",
       "      <td>-0.007905</td>\n",
       "      <td>-0.003574</td>\n",
       "      <td>-0.008481</td>\n",
       "      <td>-0.013098</td>\n",
       "    </tr>\n",
       "    <tr>\n",
       "      <th>...</th>\n",
       "      <td>...</td>\n",
       "      <td>...</td>\n",
       "      <td>...</td>\n",
       "      <td>...</td>\n",
       "    </tr>\n",
       "    <tr>\n",
       "      <th>2019-04-25</th>\n",
       "      <td>-0.000285</td>\n",
       "      <td>-0.001291</td>\n",
       "      <td>-0.005153</td>\n",
       "      <td>0.004848</td>\n",
       "    </tr>\n",
       "    <tr>\n",
       "      <th>2019-04-26</th>\n",
       "      <td>0.008149</td>\n",
       "      <td>0.009162</td>\n",
       "      <td>0.012355</td>\n",
       "      <td>0.010434</td>\n",
       "    </tr>\n",
       "    <tr>\n",
       "      <th>2019-04-29</th>\n",
       "      <td>0.001254</td>\n",
       "      <td>0.002719</td>\n",
       "      <td>0.006251</td>\n",
       "      <td>0.005223</td>\n",
       "    </tr>\n",
       "    <tr>\n",
       "      <th>2019-04-30</th>\n",
       "      <td>-0.001295</td>\n",
       "      <td>-0.002211</td>\n",
       "      <td>-0.000259</td>\n",
       "      <td>-0.003702</td>\n",
       "    </tr>\n",
       "    <tr>\n",
       "      <th>2019-05-01</th>\n",
       "      <td>-0.005847</td>\n",
       "      <td>-0.001341</td>\n",
       "      <td>-0.007936</td>\n",
       "      <td>-0.007833</td>\n",
       "    </tr>\n",
       "  </tbody>\n",
       "</table>\n",
       "<p>1060 rows × 4 columns</p>\n",
       "</div>"
      ],
      "text/plain": [
       "            SOROS FUND MANAGEMENT LLC  PAULSON & CO.INC.   \\\n",
       "Date                                                        \n",
       "2015-03-02                        NaN                 NaN   \n",
       "2015-03-03                  -0.001266           -0.004981   \n",
       "2015-03-04                   0.002230            0.003241   \n",
       "2015-03-05                   0.004016            0.004076   \n",
       "2015-03-06                  -0.007905           -0.003574   \n",
       "...                               ...                 ...   \n",
       "2019-04-25                  -0.000285           -0.001291   \n",
       "2019-04-26                   0.008149            0.009162   \n",
       "2019-04-29                   0.001254            0.002719   \n",
       "2019-04-30                  -0.001295           -0.002211   \n",
       "2019-05-01                  -0.005847           -0.001341   \n",
       "\n",
       "            TIGER GLOBAL MANAGEMENT LLC  BERKSHIRE HATHAWAY INC  \n",
       "Date                                                             \n",
       "2015-03-02                          NaN                     NaN  \n",
       "2015-03-03                    -0.000496               -0.006569  \n",
       "2015-03-04                    -0.002534                0.004213  \n",
       "2015-03-05                     0.002355                0.006726  \n",
       "2015-03-06                    -0.008481               -0.013098  \n",
       "...                                 ...                     ...  \n",
       "2019-04-25                    -0.005153                0.004848  \n",
       "2019-04-26                     0.012355                0.010434  \n",
       "2019-04-29                     0.006251                0.005223  \n",
       "2019-04-30                    -0.000259               -0.003702  \n",
       "2019-05-01                    -0.007936               -0.007833  \n",
       "\n",
       "[1060 rows x 4 columns]"
      ]
     },
     "execution_count": 29,
     "metadata": {},
     "output_type": "execute_result"
    }
   ],
   "source": [
    "#inseting the data into a DataFrame\n",
    "df_whale=pd.DataFrame(whale_data)\n",
    "df_whale"
   ]
  },
  {
   "cell_type": "code",
   "execution_count": 6,
   "id": "c9653faa-7aa7-455e-a9c8-14809e860e31",
   "metadata": {},
   "outputs": [],
   "source": [
    "null = df_whale.isnull()"
   ]
  },
  {
   "cell_type": "code",
   "execution_count": 7,
   "id": "49d56eb7-e82d-403f-b665-1c247803c2ba",
   "metadata": {},
   "outputs": [],
   "source": [
    "df_whale_cl = df_whale.dropna()"
   ]
  },
  {
   "cell_type": "code",
   "execution_count": 8,
   "id": "403d4a01-eb0a-431b-97f4-e4e43f121294",
   "metadata": {},
   "outputs": [],
   "source": [
    "snp_data = pd.read_csv('sp_tsx_history.csv')"
   ]
  },
  {
   "cell_type": "code",
   "execution_count": 9,
   "id": "42c0fdb7-bc54-445b-a19d-730c9dfdd0ae",
   "metadata": {},
   "outputs": [
    {
     "data": {
      "text/html": [
       "<div>\n",
       "<style scoped>\n",
       "    .dataframe tbody tr th:only-of-type {\n",
       "        vertical-align: middle;\n",
       "    }\n",
       "\n",
       "    .dataframe tbody tr th {\n",
       "        vertical-align: top;\n",
       "    }\n",
       "\n",
       "    .dataframe thead th {\n",
       "        text-align: right;\n",
       "    }\n",
       "</style>\n",
       "<table border=\"1\" class=\"dataframe\">\n",
       "  <thead>\n",
       "    <tr style=\"text-align: right;\">\n",
       "      <th></th>\n",
       "      <th>Close</th>\n",
       "    </tr>\n",
       "    <tr>\n",
       "      <th>Date</th>\n",
       "      <th></th>\n",
       "    </tr>\n",
       "  </thead>\n",
       "  <tbody>\n",
       "    <tr>\n",
       "      <th>2012-10-01</th>\n",
       "      <td>$12,370.19</td>\n",
       "    </tr>\n",
       "    <tr>\n",
       "      <th>2012-10-02</th>\n",
       "      <td>$12,391.23</td>\n",
       "    </tr>\n",
       "    <tr>\n",
       "      <th>2012-10-03</th>\n",
       "      <td>$12,359.47</td>\n",
       "    </tr>\n",
       "    <tr>\n",
       "      <th>2012-10-04</th>\n",
       "      <td>$12,447.68</td>\n",
       "    </tr>\n",
       "    <tr>\n",
       "      <th>2012-10-05</th>\n",
       "      <td>$12,418.99</td>\n",
       "    </tr>\n",
       "  </tbody>\n",
       "</table>\n",
       "</div>"
      ],
      "text/plain": [
       "                 Close\n",
       "Date                  \n",
       "2012-10-01  $12,370.19\n",
       "2012-10-02  $12,391.23\n",
       "2012-10-03  $12,359.47\n",
       "2012-10-04  $12,447.68\n",
       "2012-10-05  $12,418.99"
      ]
     },
     "execution_count": 9,
     "metadata": {},
     "output_type": "execute_result"
    }
   ],
   "source": [
    "snp_data = pd.read_csv('sp_tsx_history.csv', index_col = 'Date', parse_dates = True)\n",
    "snp_data.head()"
   ]
  },
  {
   "cell_type": "code",
   "execution_count": 10,
   "id": "f42a85e5-638d-48fb-8df4-ad510d65148f",
   "metadata": {},
   "outputs": [],
   "source": [
    "#putting the SNP data into a data frame\n",
    "df_snp_data = pd.DataFrame(snp_data)\n",
    "#df_snp_data.columns=[\"Date\",\"Close\"]\n"
   ]
  },
  {
   "cell_type": "code",
   "execution_count": 11,
   "id": "a6a4b456-8bd8-4d35-89a8-f67bb7fc4bd5",
   "metadata": {},
   "outputs": [
    {
     "name": "stderr",
     "output_type": "stream",
     "text": [
      "C:\\Users\\muhas\\anaconda3\\envs\\dev\\lib\\site-packages\\ipykernel_launcher.py:1: FutureWarning: The default value of regex will change from True to False in a future version. In addition, single character regular expressions will *not* be treated as literal strings when regex=True.\n",
      "  \"\"\"Entry point for launching an IPython kernel.\n"
     ]
    }
   ],
   "source": [
    "#converting string to number for the closing price by replacing $ and , with empty values and conveting the data to float\n",
    "df_snp_data[\"Close\"] = df_snp_data[\"Close\"].str.replace(\"$\",\"\")\n",
    "df_snp_data[\"Close\"] = df_snp_data[\"Close\"].str.replace(\",\",\"\")\n",
    "df_snp_data[\"Close\"] = df_snp_data[\"Close\"].astype(\"float\")\n",
    "#df_snp_data[\"Close\"] = df_snp_data[\"Close\"].astype(\"int\")\n",
    "#df_snp_data[\"Close\"].str.isnumeric()\n",
    "#df_snp_data.dtypes"
   ]
  },
  {
   "cell_type": "code",
   "execution_count": 12,
   "id": "373940b6-d9d0-4a38-b095-1a3dc297bffa",
   "metadata": {},
   "outputs": [
    {
     "data": {
      "text/plain": [
       "Date\n",
       "2012-10-01    12370.19\n",
       "2012-10-02    12391.23\n",
       "2012-10-03    12359.47\n",
       "2012-10-04    12447.68\n",
       "2012-10-05    12418.99\n",
       "                ...   \n",
       "2019-12-20    17118.44\n",
       "2019-12-23    17128.71\n",
       "2019-12-24    17180.15\n",
       "2019-12-27    17168.21\n",
       "2019-12-30    17098.56\n",
       "Name: Close, Length: 1818, dtype: float64"
      ]
     },
     "execution_count": 12,
     "metadata": {},
     "output_type": "execute_result"
    }
   ],
   "source": [
    "df_snp_data[\"Close\"]"
   ]
  },
  {
   "cell_type": "code",
   "execution_count": 43,
   "id": "7fd7f869-8701-48f3-a32d-438b5e9990f1",
   "metadata": {},
   "outputs": [],
   "source": [
    "#df_snp_data.rename({\"Close\":\"S&PTsx\"})"
   ]
  },
  {
   "cell_type": "code",
   "execution_count": 13,
   "id": "f9bb2501-93c7-4378-a9b0-3b69e29a5ddd",
   "metadata": {},
   "outputs": [
    {
     "data": {
      "text/plain": [
       "Date\n",
       "2012-10-02    0.001701\n",
       "2012-10-03   -0.002563\n",
       "2012-10-04    0.007137\n",
       "2012-10-05   -0.002305\n",
       "2012-10-09   -0.011709\n",
       "                ...   \n",
       "2019-12-20    0.003188\n",
       "2019-12-23    0.000600\n",
       "2019-12-24    0.003003\n",
       "2019-12-27   -0.000695\n",
       "2019-12-30   -0.004057\n",
       "Name: Close, Length: 1817, dtype: float64"
      ]
     },
     "execution_count": 13,
     "metadata": {},
     "output_type": "execute_result"
    }
   ],
   "source": [
    "#converting the closing price of the S&P data to % change and ignoring the NA values\n",
    "df_snp_daily_returns = df_snp_data[\"Close\"].pct_change().dropna()\n",
    "df_snp_daily_returns"
   ]
  },
  {
   "cell_type": "code",
   "execution_count": 14,
   "id": "6daaafcf-5347-429b-ae74-9667b35e8e35",
   "metadata": {},
   "outputs": [
    {
     "data": {
      "text/plain": [
       "0.006637362556692504"
      ]
     },
     "execution_count": 14,
     "metadata": {},
     "output_type": "execute_result"
    }
   ],
   "source": [
    "std = df_snp_daily_returns.std()\n",
    "std"
   ]
  },
  {
   "cell_type": "code",
   "execution_count": 15,
   "id": "26f9c5e5-5f1a-41ca-aa90-f3121975d4bd",
   "metadata": {},
   "outputs": [
    {
     "data": {
      "text/html": [
       "<div>\n",
       "<style scoped>\n",
       "    .dataframe tbody tr th:only-of-type {\n",
       "        vertical-align: middle;\n",
       "    }\n",
       "\n",
       "    .dataframe tbody tr th {\n",
       "        vertical-align: top;\n",
       "    }\n",
       "\n",
       "    .dataframe thead th {\n",
       "        text-align: right;\n",
       "    }\n",
       "</style>\n",
       "<table border=\"1\" class=\"dataframe\">\n",
       "  <thead>\n",
       "    <tr style=\"text-align: right;\">\n",
       "      <th></th>\n",
       "      <th>Algo 1</th>\n",
       "      <th>Algo 2</th>\n",
       "    </tr>\n",
       "    <tr>\n",
       "      <th>Date</th>\n",
       "      <th></th>\n",
       "      <th></th>\n",
       "    </tr>\n",
       "  </thead>\n",
       "  <tbody>\n",
       "    <tr>\n",
       "      <th>2014-05-28</th>\n",
       "      <td>0.001745</td>\n",
       "      <td>NaN</td>\n",
       "    </tr>\n",
       "    <tr>\n",
       "      <th>2014-05-29</th>\n",
       "      <td>0.003978</td>\n",
       "      <td>NaN</td>\n",
       "    </tr>\n",
       "    <tr>\n",
       "      <th>2014-05-30</th>\n",
       "      <td>0.004464</td>\n",
       "      <td>NaN</td>\n",
       "    </tr>\n",
       "    <tr>\n",
       "      <th>2014-06-02</th>\n",
       "      <td>0.005692</td>\n",
       "      <td>NaN</td>\n",
       "    </tr>\n",
       "    <tr>\n",
       "      <th>2014-06-03</th>\n",
       "      <td>0.005292</td>\n",
       "      <td>NaN</td>\n",
       "    </tr>\n",
       "    <tr>\n",
       "      <th>...</th>\n",
       "      <td>...</td>\n",
       "      <td>...</td>\n",
       "    </tr>\n",
       "    <tr>\n",
       "      <th>2019-04-25</th>\n",
       "      <td>0.000682</td>\n",
       "      <td>-0.007247</td>\n",
       "    </tr>\n",
       "    <tr>\n",
       "      <th>2019-04-26</th>\n",
       "      <td>0.002981</td>\n",
       "      <td>0.005256</td>\n",
       "    </tr>\n",
       "    <tr>\n",
       "      <th>2019-04-29</th>\n",
       "      <td>0.005208</td>\n",
       "      <td>0.002829</td>\n",
       "    </tr>\n",
       "    <tr>\n",
       "      <th>2019-04-30</th>\n",
       "      <td>-0.002944</td>\n",
       "      <td>-0.001570</td>\n",
       "    </tr>\n",
       "    <tr>\n",
       "      <th>2019-05-01</th>\n",
       "      <td>0.000094</td>\n",
       "      <td>-0.007358</td>\n",
       "    </tr>\n",
       "  </tbody>\n",
       "</table>\n",
       "<p>1241 rows × 2 columns</p>\n",
       "</div>"
      ],
      "text/plain": [
       "              Algo 1    Algo 2\n",
       "Date                          \n",
       "2014-05-28  0.001745       NaN\n",
       "2014-05-29  0.003978       NaN\n",
       "2014-05-30  0.004464       NaN\n",
       "2014-06-02  0.005692       NaN\n",
       "2014-06-03  0.005292       NaN\n",
       "...              ...       ...\n",
       "2019-04-25  0.000682 -0.007247\n",
       "2019-04-26  0.002981  0.005256\n",
       "2019-04-29  0.005208  0.002829\n",
       "2019-04-30 -0.002944 -0.001570\n",
       "2019-05-01  0.000094 -0.007358\n",
       "\n",
       "[1241 rows x 2 columns]"
      ]
     },
     "execution_count": 15,
     "metadata": {},
     "output_type": "execute_result"
    }
   ],
   "source": [
    "#reading the data from algo_returns.csv file and putting them in a data frame\n",
    "algo_return = pd.read_csv('algo_returns.csv', index_col = 'Date', parse_dates = True)\n",
    "df_algo_return =pd.DataFrame(algo_return)\n",
    "df_algo_return"
   ]
  },
  {
   "cell_type": "code",
   "execution_count": 16,
   "id": "5d37e225-22d9-4cb2-8b14-dcedbf3652a0",
   "metadata": {},
   "outputs": [
    {
     "data": {
      "text/html": [
       "<div>\n",
       "<style scoped>\n",
       "    .dataframe tbody tr th:only-of-type {\n",
       "        vertical-align: middle;\n",
       "    }\n",
       "\n",
       "    .dataframe tbody tr th {\n",
       "        vertical-align: top;\n",
       "    }\n",
       "\n",
       "    .dataframe thead th {\n",
       "        text-align: right;\n",
       "    }\n",
       "</style>\n",
       "<table border=\"1\" class=\"dataframe\">\n",
       "  <thead>\n",
       "    <tr style=\"text-align: right;\">\n",
       "      <th></th>\n",
       "      <th>SOROS</th>\n",
       "      <th>PAULSON</th>\n",
       "      <th>TIGER</th>\n",
       "      <th>BERKSHIRE</th>\n",
       "      <th>S&amp;P</th>\n",
       "      <th>Algo 1</th>\n",
       "      <th>Algo 2</th>\n",
       "    </tr>\n",
       "    <tr>\n",
       "      <th>Date</th>\n",
       "      <th></th>\n",
       "      <th></th>\n",
       "      <th></th>\n",
       "      <th></th>\n",
       "      <th></th>\n",
       "      <th></th>\n",
       "      <th></th>\n",
       "    </tr>\n",
       "  </thead>\n",
       "  <tbody>\n",
       "    <tr>\n",
       "      <th>2015-03-03</th>\n",
       "      <td>-0.001266</td>\n",
       "      <td>-0.004981</td>\n",
       "      <td>-0.000496</td>\n",
       "      <td>-0.006569</td>\n",
       "      <td>-0.008530</td>\n",
       "      <td>-0.001942</td>\n",
       "      <td>-0.000949</td>\n",
       "    </tr>\n",
       "    <tr>\n",
       "      <th>2015-03-04</th>\n",
       "      <td>0.002230</td>\n",
       "      <td>0.003241</td>\n",
       "      <td>-0.002534</td>\n",
       "      <td>0.004213</td>\n",
       "      <td>-0.003371</td>\n",
       "      <td>-0.008589</td>\n",
       "      <td>0.002416</td>\n",
       "    </tr>\n",
       "    <tr>\n",
       "      <th>2015-03-05</th>\n",
       "      <td>0.004016</td>\n",
       "      <td>0.004076</td>\n",
       "      <td>0.002355</td>\n",
       "      <td>0.006726</td>\n",
       "      <td>0.001344</td>\n",
       "      <td>-0.000955</td>\n",
       "      <td>0.004323</td>\n",
       "    </tr>\n",
       "    <tr>\n",
       "      <th>2015-03-06</th>\n",
       "      <td>-0.007905</td>\n",
       "      <td>-0.003574</td>\n",
       "      <td>-0.008481</td>\n",
       "      <td>-0.013098</td>\n",
       "      <td>-0.009972</td>\n",
       "      <td>-0.004957</td>\n",
       "      <td>-0.011460</td>\n",
       "    </tr>\n",
       "    <tr>\n",
       "      <th>2015-03-09</th>\n",
       "      <td>0.000582</td>\n",
       "      <td>0.004225</td>\n",
       "      <td>0.005843</td>\n",
       "      <td>-0.001652</td>\n",
       "      <td>-0.006555</td>\n",
       "      <td>-0.005447</td>\n",
       "      <td>0.001303</td>\n",
       "    </tr>\n",
       "  </tbody>\n",
       "</table>\n",
       "</div>"
      ],
      "text/plain": [
       "               SOROS   PAULSON     TIGER  BERKSHIRE       S&P    Algo 1  \\\n",
       "Date                                                                      \n",
       "2015-03-03 -0.001266 -0.004981 -0.000496  -0.006569 -0.008530 -0.001942   \n",
       "2015-03-04  0.002230  0.003241 -0.002534   0.004213 -0.003371 -0.008589   \n",
       "2015-03-05  0.004016  0.004076  0.002355   0.006726  0.001344 -0.000955   \n",
       "2015-03-06 -0.007905 -0.003574 -0.008481  -0.013098 -0.009972 -0.004957   \n",
       "2015-03-09  0.000582  0.004225  0.005843  -0.001652 -0.006555 -0.005447   \n",
       "\n",
       "              Algo 2  \n",
       "Date                  \n",
       "2015-03-03 -0.000949  \n",
       "2015-03-04  0.002416  \n",
       "2015-03-05  0.004323  \n",
       "2015-03-06 -0.011460  \n",
       "2015-03-09  0.001303  "
      ]
     },
     "execution_count": 16,
     "metadata": {},
     "output_type": "execute_result"
    }
   ],
   "source": [
    "#combindin gthe protfolios in s single data frame \n",
    "combined_data = pd.concat([df_whale_cl,df_snp_daily_returns,df_algo_return], axis='columns',join='inner')\n",
    "#Shortening the names of the colums of the portfolios\n",
    "combined_data.columns=[\"SOROS\",\n",
    "                       \"PAULSON\",\n",
    "                       \"TIGER\",\n",
    "                       \"BERKSHIRE\",\n",
    "                       \"S&P\",\n",
    "                       \"Algo 1\",\n",
    "                       \"Algo 2\"]\n",
    "\n",
    "combined_data.head()"
   ]
  },
  {
   "cell_type": "code",
   "execution_count": 83,
   "id": "ac9a0f49-1284-4412-bdf6-5e4f97947d9b",
   "metadata": {},
   "outputs": [
    {
     "data": {
      "text/plain": [
       "<AxesSubplot:xlabel='Date'>"
      ]
     },
     "execution_count": 83,
     "metadata": {},
     "output_type": "execute_result"
    },
    {
     "data": {
      "image/png": "[encoded data removed]",
      "text/plain": [
       "<Figure size 432x288 with 1 Axes>"
      ]
     },
     "metadata": {
      "needs_background": "light"
     },
     "output_type": "display_data"
    }
   ],
   "source": [
    "#polting the daily redun of the portfolios in a graph\n",
    "combined_data.plot()"
   ]
  },
  {
   "cell_type": "code",
   "execution_count": 17,
   "id": "2c9926c4-a85d-4f92-a9da-56bc65af6d5f",
   "metadata": {},
   "outputs": [
    {
     "data": {
      "text/html": [
       "<div>\n",
       "<style scoped>\n",
       "    .dataframe tbody tr th:only-of-type {\n",
       "        vertical-align: middle;\n",
       "    }\n",
       "\n",
       "    .dataframe tbody tr th {\n",
       "        vertical-align: top;\n",
       "    }\n",
       "\n",
       "    .dataframe thead th {\n",
       "        text-align: right;\n",
       "    }\n",
       "</style>\n",
       "<table border=\"1\" class=\"dataframe\">\n",
       "  <thead>\n",
       "    <tr style=\"text-align: right;\">\n",
       "      <th></th>\n",
       "      <th>SOROS</th>\n",
       "      <th>PAULSON</th>\n",
       "      <th>TIGER</th>\n",
       "      <th>BERKSHIRE</th>\n",
       "      <th>S&amp;P</th>\n",
       "      <th>Algo 1</th>\n",
       "      <th>Algo 2</th>\n",
       "    </tr>\n",
       "    <tr>\n",
       "      <th>Date</th>\n",
       "      <th></th>\n",
       "      <th></th>\n",
       "      <th></th>\n",
       "      <th></th>\n",
       "      <th></th>\n",
       "      <th></th>\n",
       "      <th></th>\n",
       "    </tr>\n",
       "  </thead>\n",
       "  <tbody>\n",
       "    <tr>\n",
       "      <th>2015-03-03</th>\n",
       "      <td>0.998734</td>\n",
       "      <td>0.995019</td>\n",
       "      <td>0.999504</td>\n",
       "      <td>0.993431</td>\n",
       "      <td>0.991470</td>\n",
       "      <td>0.998058</td>\n",
       "      <td>0.999051</td>\n",
       "    </tr>\n",
       "    <tr>\n",
       "      <th>2015-03-04</th>\n",
       "      <td>1.000962</td>\n",
       "      <td>0.998245</td>\n",
       "      <td>0.996972</td>\n",
       "      <td>0.997617</td>\n",
       "      <td>0.988128</td>\n",
       "      <td>0.989486</td>\n",
       "      <td>1.001464</td>\n",
       "    </tr>\n",
       "    <tr>\n",
       "      <th>2015-03-05</th>\n",
       "      <td>1.004981</td>\n",
       "      <td>1.002314</td>\n",
       "      <td>0.999319</td>\n",
       "      <td>1.004327</td>\n",
       "      <td>0.989456</td>\n",
       "      <td>0.988541</td>\n",
       "      <td>1.005794</td>\n",
       "    </tr>\n",
       "    <tr>\n",
       "      <th>2015-03-06</th>\n",
       "      <td>0.997037</td>\n",
       "      <td>0.998731</td>\n",
       "      <td>0.990844</td>\n",
       "      <td>0.991172</td>\n",
       "      <td>0.979589</td>\n",
       "      <td>0.983641</td>\n",
       "      <td>0.994267</td>\n",
       "    </tr>\n",
       "    <tr>\n",
       "      <th>2015-03-09</th>\n",
       "      <td>0.997617</td>\n",
       "      <td>1.002951</td>\n",
       "      <td>0.996633</td>\n",
       "      <td>0.989534</td>\n",
       "      <td>0.973168</td>\n",
       "      <td>0.978283</td>\n",
       "      <td>0.995563</td>\n",
       "    </tr>\n",
       "  </tbody>\n",
       "</table>\n",
       "</div>"
      ],
      "text/plain": [
       "               SOROS   PAULSON     TIGER  BERKSHIRE       S&P    Algo 1  \\\n",
       "Date                                                                      \n",
       "2015-03-03  0.998734  0.995019  0.999504   0.993431  0.991470  0.998058   \n",
       "2015-03-04  1.000962  0.998245  0.996972   0.997617  0.988128  0.989486   \n",
       "2015-03-05  1.004981  1.002314  0.999319   1.004327  0.989456  0.988541   \n",
       "2015-03-06  0.997037  0.998731  0.990844   0.991172  0.979589  0.983641   \n",
       "2015-03-09  0.997617  1.002951  0.996633   0.989534  0.973168  0.978283   \n",
       "\n",
       "              Algo 2  \n",
       "Date                  \n",
       "2015-03-03  0.999051  \n",
       "2015-03-04  1.001464  \n",
       "2015-03-05  1.005794  \n",
       "2015-03-06  0.994267  \n",
       "2015-03-09  0.995563  "
      ]
     },
     "execution_count": 17,
     "metadata": {},
     "output_type": "execute_result"
    }
   ],
   "source": [
    "#Determining the cumulative return of the protfolios\n",
    "cumulative_returns = (1+combined_data).cumprod()\n",
    "cumulative_returns.head()"
   ]
  },
  {
   "cell_type": "code",
   "execution_count": 18,
   "id": "114c330b-d8ed-4098-89ae-21d691e2746c",
   "metadata": {},
   "outputs": [
    {
     "data": {
      "text/plain": [
       "<AxesSubplot:>"
      ]
     },
     "execution_count": 18,
     "metadata": {},
     "output_type": "execute_result"
    },
    {
     "data": {
      "image/png": "[encoded data removed]",
      "text/plain": [
       "<Figure size 432x288 with 1 Axes>"
      ]
     },
     "metadata": {
      "needs_background": "light"
     },
     "output_type": "display_data"
    }
   ],
   "source": [
    "#plotting the cumulative returns in box graph \n",
    "cumulative_returns.plot.box()"
   ]
  },
  {
   "cell_type": "code",
   "execution_count": 19,
   "id": "65d3fdf7-a2e9-4862-a519-824f3a1aa35f",
   "metadata": {},
   "outputs": [],
   "source": [
    "std_port = combined_data.std()"
   ]
  },
  {
   "cell_type": "code",
   "execution_count": 20,
   "id": "3a2930ab-07e1-4dd6-85d1-708850e5c6fc",
   "metadata": {},
   "outputs": [
    {
     "data": {
      "text/plain": [
       "BERKSHIRE    0.012826\n",
       "TIGER        0.010883\n",
       "Algo 2       0.008326\n",
       "SOROS        0.007828\n",
       "Algo 1       0.007589\n",
       "dtype: float64"
      ]
     },
     "execution_count": 20,
     "metadata": {},
     "output_type": "execute_result"
    }
   ],
   "source": [
    "#sorting the values of the portfolios from high risk to low risk\n",
    "risky_port = std_port.sort_values(ascending=False)\n",
    "risky_port.head()"
   ]
  },
  {
   "cell_type": "code",
   "execution_count": 21,
   "id": "d644c14e-7efe-41cf-8a53-8ad7e494c4bd",
   "metadata": {},
   "outputs": [
    {
     "data": {
      "text/plain": [
       "BERKSHIRE    0.203599\n",
       "TIGER        0.172759\n",
       "Algo 2       0.132177\n",
       "SOROS        0.124259\n",
       "Algo 1       0.120470\n",
       "dtype: float64"
      ]
     },
     "execution_count": 21,
     "metadata": {},
     "output_type": "execute_result"
    }
   ],
   "source": [
    "#finding the anual standard deviation from daily standard defiation \n",
    "annual_std = risky_port * np.sqrt(252)\n",
    "annual_std.head()"
   ]
  },
  {
   "cell_type": "code",
   "execution_count": 22,
   "id": "3c388f0f-9c59-4993-9723-216587913d41",
   "metadata": {},
   "outputs": [
    {
     "data": {
      "text/plain": [
       "<AxesSubplot:xlabel='Date'>"
      ]
     },
     "execution_count": 22,
     "metadata": {},
     "output_type": "execute_result"
    },
    {
     "data": {
      "image/png": "[encoded data removed]",
      "text/plain": [
       "<Figure size 432x288 with 1 Axes>"
      ]
     },
     "metadata": {
      "needs_background": "light"
     },
     "output_type": "display_data"
    }
   ],
   "source": [
    "#calculating and plotting the rolling standard deviation \n",
    "combined_data.rolling(window=21).std().plot()"
   ]
  },
  {
   "cell_type": "code",
   "execution_count": 23,
   "id": "f51904a0-ee78-43f5-becb-4bde249bb049",
   "metadata": {},
   "outputs": [
    {
     "data": {
      "text/plain": [
       "4.3187044300842554e-05"
      ]
     },
     "execution_count": 23,
     "metadata": {},
     "output_type": "execute_result"
    }
   ],
   "source": [
    "#Finding the covariances of the portfolios with market portfolios (s&P)\n",
    "soros_covariance=combined_data[\"SOROS\"].cov(combined_data[\"S&P\"] )    \n",
    "paulson_covariance=combined_data[\"PAULSON\"].cov(combined_data[\"S&P\"] )    \n",
    "berkshire_covariance=combined_data[\"BERKSHIRE\"].cov(combined_data[\"S&P\"] )\n",
    "algo1_covariance=combined_data[\"Algo 1\"].cov(combined_data[\"S&P\"] )\n",
    "algo2_covariance=combined_data[\"Algo 2\"].cov(combined_data[\"S&P\"] )\n",
    "algo2_covariance"
   ]
  },
  {
   "cell_type": "code",
   "execution_count": 25,
   "id": "acb14377-f389-493c-a80e-dbdaf422420c",
   "metadata": {},
   "outputs": [
    {
     "data": {
      "text/plain": [
       "SOROS        0.286709\n",
       "PAULSON     -0.547594\n",
       "TIGER       -0.144455\n",
       "BERKSHIRE    0.467045\n",
       "S&P          0.195550\n",
       "Algo 1       1.491514\n",
       "Algo 2       0.396817\n",
       "dtype: float64"
      ]
     },
     "execution_count": 25,
     "metadata": {},
     "output_type": "execute_result"
    }
   ],
   "source": [
    "#Finding the sharp ratios to determine the performance in camparison with risk\n",
    "sharpe_ratios = (combined_data.mean() * 252) / (combined_data.std() * np.sqrt(252))\n",
    "sharpe_ratios"
   ]
  },
  {
   "cell_type": "code",
   "execution_count": 28,
   "id": "43bba79c-5ee1-4798-8e32-d22c9fec9e09",
   "metadata": {},
   "outputs": [
    {
     "data": {
      "text/plain": [
       "<AxesSubplot:>"
      ]
     },
     "execution_count": 28,
     "metadata": {},
     "output_type": "execute_result"
    },
    {
     "data": {
      "image/png": "[encoded data removed]",
      "text/plain": [
       "<Figure size 432x288 with 1 Axes>"
      ]
     },
     "metadata": {
      "needs_background": "light"
     },
     "output_type": "display_data"
    }
   ],
   "source": [
    "#Plotting the sharp ratios in bar chart \n",
    "sharpe_ratios.plot(kind = 'bar')"
   ]
  },
  {
   "cell_type": "code",
   "execution_count": 46,
   "id": "771df4b4-4eff-415b-86bd-6c0a38281722",
   "metadata": {},
   "outputs": [
    {
     "data": {
      "text/html": [
       "<div>\n",
       "<style scoped>\n",
       "    .dataframe tbody tr th:only-of-type {\n",
       "        vertical-align: middle;\n",
       "    }\n",
       "\n",
       "    .dataframe tbody tr th {\n",
       "        vertical-align: top;\n",
       "    }\n",
       "\n",
       "    .dataframe thead th {\n",
       "        text-align: right;\n",
       "    }\n",
       "</style>\n",
       "<table border=\"1\" class=\"dataframe\">\n",
       "  <thead>\n",
       "    <tr style=\"text-align: right;\">\n",
       "      <th></th>\n",
       "      <th>0</th>\n",
       "    </tr>\n",
       "  </thead>\n",
       "  <tbody>\n",
       "    <tr>\n",
       "      <th>SOROS</th>\n",
       "      <td>0.286709</td>\n",
       "    </tr>\n",
       "    <tr>\n",
       "      <th>PAULSON</th>\n",
       "      <td>-0.547594</td>\n",
       "    </tr>\n",
       "    <tr>\n",
       "      <th>TIGER</th>\n",
       "      <td>-0.144455</td>\n",
       "    </tr>\n",
       "    <tr>\n",
       "      <th>BERKSHIRE</th>\n",
       "      <td>0.467045</td>\n",
       "    </tr>\n",
       "    <tr>\n",
       "      <th>S&amp;P</th>\n",
       "      <td>0.195550</td>\n",
       "    </tr>\n",
       "    <tr>\n",
       "      <th>Algo 1</th>\n",
       "      <td>1.491514</td>\n",
       "    </tr>\n",
       "    <tr>\n",
       "      <th>Algo 2</th>\n",
       "      <td>0.396817</td>\n",
       "    </tr>\n",
       "  </tbody>\n",
       "</table>\n",
       "</div>"
      ],
      "text/plain": [
       "                  0\n",
       "SOROS      0.286709\n",
       "PAULSON   -0.547594\n",
       "TIGER     -0.144455\n",
       "BERKSHIRE  0.467045\n",
       "S&P        0.195550\n",
       "Algo 1     1.491514\n",
       "Algo 2     0.396817"
      ]
     },
     "execution_count": 46,
     "metadata": {},
     "output_type": "execute_result"
    }
   ],
   "source": [
    "df_sharp = pd.DataFrame(sharpe_ratios)\n",
    "df_sharp"
   ]
  },
  {
   "cell_type": "code",
   "execution_count": 54,
   "id": "758b7477-e85a-4301-87af-1e968f8276ed",
   "metadata": {},
   "outputs": [
    {
     "name": "stdout",
     "output_type": "stream",
     "text": [
      "BERKSHIRE and SOROS portfolio is doing better than S&P\n"
     ]
    }
   ],
   "source": [
    "print(\"BERKSHIRE and SOROS portfolio is doing better than S&P\")"
   ]
  },
  {
   "cell_type": "code",
   "execution_count": 100,
   "id": "678fc87f-8e00-4290-8b73-23db76fe2ebb",
   "metadata": {},
   "outputs": [
    {
     "data": {
      "text/html": [
       "<div>\n",
       "<style scoped>\n",
       "    .dataframe tbody tr th:only-of-type {\n",
       "        vertical-align: middle;\n",
       "    }\n",
       "\n",
       "    .dataframe tbody tr th {\n",
       "        vertical-align: top;\n",
       "    }\n",
       "\n",
       "    .dataframe thead th {\n",
       "        text-align: right;\n",
       "    }\n",
       "</style>\n",
       "<table border=\"1\" class=\"dataframe\">\n",
       "  <thead>\n",
       "    <tr style=\"text-align: right;\">\n",
       "      <th></th>\n",
       "      <th>IBM</th>\n",
       "    </tr>\n",
       "    <tr>\n",
       "      <th>Date</th>\n",
       "      <th></th>\n",
       "    </tr>\n",
       "  </thead>\n",
       "  <tbody>\n",
       "    <tr>\n",
       "      <th>2014-01-02 16:00:00</th>\n",
       "      <td>NaN</td>\n",
       "    </tr>\n",
       "    <tr>\n",
       "      <th>2014-01-03 16:00:00</th>\n",
       "      <td>0.005982</td>\n",
       "    </tr>\n",
       "    <tr>\n",
       "      <th>2014-01-06 16:00:00</th>\n",
       "      <td>-0.003422</td>\n",
       "    </tr>\n",
       "    <tr>\n",
       "      <th>2014-01-07 16:00:00</th>\n",
       "      <td>0.019926</td>\n",
       "    </tr>\n",
       "    <tr>\n",
       "      <th>2014-01-08 16:00:00</th>\n",
       "      <td>-0.009161</td>\n",
       "    </tr>\n",
       "    <tr>\n",
       "      <th>...</th>\n",
       "      <td>...</td>\n",
       "    </tr>\n",
       "    <tr>\n",
       "      <th>2014-12-23 16:00:00</th>\n",
       "      <td>0.004994</td>\n",
       "    </tr>\n",
       "    <tr>\n",
       "      <th>2014-12-24 16:00:00</th>\n",
       "      <td>-0.002646</td>\n",
       "    </tr>\n",
       "    <tr>\n",
       "      <th>2014-12-26 16:00:00</th>\n",
       "      <td>0.003235</td>\n",
       "    </tr>\n",
       "    <tr>\n",
       "      <th>2014-12-29 16:00:00</th>\n",
       "      <td>-0.011286</td>\n",
       "    </tr>\n",
       "    <tr>\n",
       "      <th>2014-12-30 16:00:00</th>\n",
       "      <td>-0.002870</td>\n",
       "    </tr>\n",
       "  </tbody>\n",
       "</table>\n",
       "<p>251 rows × 1 columns</p>\n",
       "</div>"
      ],
      "text/plain": [
       "                          IBM\n",
       "Date                         \n",
       "2014-01-02 16:00:00       NaN\n",
       "2014-01-03 16:00:00  0.005982\n",
       "2014-01-06 16:00:00 -0.003422\n",
       "2014-01-07 16:00:00  0.019926\n",
       "2014-01-08 16:00:00 -0.009161\n",
       "...                       ...\n",
       "2014-12-23 16:00:00  0.004994\n",
       "2014-12-24 16:00:00 -0.002646\n",
       "2014-12-26 16:00:00  0.003235\n",
       "2014-12-29 16:00:00 -0.011286\n",
       "2014-12-30 16:00:00 -0.002870\n",
       "\n",
       "[251 rows x 1 columns]"
      ]
     },
     "execution_count": 100,
     "metadata": {},
     "output_type": "execute_result"
    }
   ],
   "source": [
    "filepath_IBM = ('./IBM - Sheet1.csv')\n",
    "IBM_data = pd.read_csv(filepath_IBM,index_col = 'Date', parse_dates = True)\n",
    "IBM_data.columns=['IBM']\n",
    "IBM_data.pct_change()"
   ]
  },
  {
   "cell_type": "code",
   "execution_count": 103,
   "id": "a2fe945d-fa9f-4541-9851-ff03ac974289",
   "metadata": {},
   "outputs": [
    {
     "data": {
      "text/html": [
       "<div>\n",
       "<style scoped>\n",
       "    .dataframe tbody tr th:only-of-type {\n",
       "        vertical-align: middle;\n",
       "    }\n",
       "\n",
       "    .dataframe tbody tr th {\n",
       "        vertical-align: top;\n",
       "    }\n",
       "\n",
       "    .dataframe thead th {\n",
       "        text-align: right;\n",
       "    }\n",
       "</style>\n",
       "<table border=\"1\" class=\"dataframe\">\n",
       "  <thead>\n",
       "    <tr style=\"text-align: right;\">\n",
       "      <th></th>\n",
       "      <th>BPL</th>\n",
       "    </tr>\n",
       "    <tr>\n",
       "      <th>Date</th>\n",
       "      <th></th>\n",
       "    </tr>\n",
       "  </thead>\n",
       "  <tbody>\n",
       "    <tr>\n",
       "      <th>2014-01-02 15:30:00</th>\n",
       "      <td>NaN</td>\n",
       "    </tr>\n",
       "    <tr>\n",
       "      <th>2014-01-03 15:30:00</th>\n",
       "      <td>-0.054313</td>\n",
       "    </tr>\n",
       "    <tr>\n",
       "      <th>2014-01-06 15:30:00</th>\n",
       "      <td>0.010135</td>\n",
       "    </tr>\n",
       "    <tr>\n",
       "      <th>2014-01-07 15:30:00</th>\n",
       "      <td>0.030100</td>\n",
       "    </tr>\n",
       "    <tr>\n",
       "      <th>2014-01-08 15:30:00</th>\n",
       "      <td>-0.006494</td>\n",
       "    </tr>\n",
       "    <tr>\n",
       "      <th>...</th>\n",
       "      <td>...</td>\n",
       "    </tr>\n",
       "    <tr>\n",
       "      <th>2014-12-24 15:30:00</th>\n",
       "      <td>0.136476</td>\n",
       "    </tr>\n",
       "    <tr>\n",
       "      <th>2014-12-26 15:30:00</th>\n",
       "      <td>0.039301</td>\n",
       "    </tr>\n",
       "    <tr>\n",
       "      <th>2014-12-29 15:30:00</th>\n",
       "      <td>0.199580</td>\n",
       "    </tr>\n",
       "    <tr>\n",
       "      <th>2014-12-30 15:30:00</th>\n",
       "      <td>-0.019264</td>\n",
       "    </tr>\n",
       "    <tr>\n",
       "      <th>2014-12-31 15:30:00</th>\n",
       "      <td>0.200000</td>\n",
       "    </tr>\n",
       "  </tbody>\n",
       "</table>\n",
       "<p>241 rows × 1 columns</p>\n",
       "</div>"
      ],
      "text/plain": [
       "                          BPL\n",
       "Date                         \n",
       "2014-01-02 15:30:00       NaN\n",
       "2014-01-03 15:30:00 -0.054313\n",
       "2014-01-06 15:30:00  0.010135\n",
       "2014-01-07 15:30:00  0.030100\n",
       "2014-01-08 15:30:00 -0.006494\n",
       "...                       ...\n",
       "2014-12-24 15:30:00  0.136476\n",
       "2014-12-26 15:30:00  0.039301\n",
       "2014-12-29 15:30:00  0.199580\n",
       "2014-12-30 15:30:00 -0.019264\n",
       "2014-12-31 15:30:00  0.200000\n",
       "\n",
       "[241 rows x 1 columns]"
      ]
     },
     "execution_count": 103,
     "metadata": {},
     "output_type": "execute_result"
    }
   ],
   "source": [
    "filepath_BPL = ('./BPL - Sheet1.csv')\n",
    "BPL_data=pd.read_csv(filepath_BPL, index_col=\"Date\", parse_dates =True)\n",
    "BPL_data.columns=[\"BPL\"]\n",
    "BPL_data.pct_change()"
   ]
  },
  {
   "cell_type": "code",
   "execution_count": 106,
   "id": "7584f3e6-6e1a-473e-b7c6-9a79f6c1f2f2",
   "metadata": {},
   "outputs": [
    {
     "data": {
      "text/html": [
       "<div>\n",
       "<style scoped>\n",
       "    .dataframe tbody tr th:only-of-type {\n",
       "        vertical-align: middle;\n",
       "    }\n",
       "\n",
       "    .dataframe tbody tr th {\n",
       "        vertical-align: top;\n",
       "    }\n",
       "\n",
       "    .dataframe thead th {\n",
       "        text-align: right;\n",
       "    }\n",
       "</style>\n",
       "<table border=\"1\" class=\"dataframe\">\n",
       "  <thead>\n",
       "    <tr style=\"text-align: right;\">\n",
       "      <th></th>\n",
       "      <th>SOROS</th>\n",
       "      <th>PAULSON</th>\n",
       "      <th>TIGER</th>\n",
       "      <th>BERKSHIRE</th>\n",
       "      <th>S&amp;P</th>\n",
       "      <th>Algo 1</th>\n",
       "      <th>Algo 2</th>\n",
       "      <th>BPL</th>\n",
       "      <th>IBM</th>\n",
       "    </tr>\n",
       "    <tr>\n",
       "      <th>Date</th>\n",
       "      <th></th>\n",
       "      <th></th>\n",
       "      <th></th>\n",
       "      <th></th>\n",
       "      <th></th>\n",
       "      <th></th>\n",
       "      <th></th>\n",
       "      <th></th>\n",
       "      <th></th>\n",
       "    </tr>\n",
       "  </thead>\n",
       "  <tbody>\n",
       "  </tbody>\n",
       "</table>\n",
       "</div>"
      ],
      "text/plain": [
       "Empty DataFrame\n",
       "Columns: [SOROS, PAULSON, TIGER, BERKSHIRE, S&P, Algo 1, Algo 2, BPL, IBM]\n",
       "Index: []"
      ]
     },
     "execution_count": 106,
     "metadata": {},
     "output_type": "execute_result"
    }
   ],
   "source": [
    "combined_data1=pd.concat([combined_data,BPL_data,IBM_data],axis='columns',join='inner')\n",
    "combined_data1"
   ]
  }
 ],
 "metadata": {
  "kernelspec": {
   "display_name": "Python 3 (ipykernel)",
   "language": "python",
   "name": "python3"
  },
  "language_info": {
   "codemirror_mode": {
    "name": "ipython",
    "version": 3
   },
   "file_extension": ".py",
   "mimetype": "text/x-python",
   "name": "python",
   "nbconvert_exporter": "python",
   "pygments_lexer": "ipython3",
   "version": "3.7.13"
  }
 },
 "nbformat": 4,
 "nbformat_minor": 5
}
